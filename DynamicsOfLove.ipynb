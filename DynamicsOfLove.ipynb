{
 "cells": [
  {
   "cell_type": "markdown",
   "id": "f71e57af",
   "metadata": {},
   "source": [
    "# Dynamics Of Love"
   ]
  },
  {
   "cell_type": "markdown",
   "id": "86f987ab",
   "metadata": {},
   "source": [
    "## Introduction to Initial-Value Problem (IVP)\n",
    "### What are Ordinary Differential Equations (ODEs)\n",
    "An ordinary differential equation (ODE) is an equation that includes oridinary derivatives of a function as part of itself. Because ODEs originates from normal equation, through multiple differentiations, the ultimate goal when solving ODEs is to obtain the original equation.\n",
    "\n",
    "For example:"
   ]
  },
  {
   "cell_type": "markdown",
   "id": "61423413",
   "metadata": {},
   "source": [
    "$$ \\frac{dy}{dx} = 2x + 3 $$"
   ]
  },
  {
   "cell_type": "markdown",
   "id": "d3441005",
   "metadata": {},
   "source": [
    "The original equation that the example comes from:"
   ]
  },
  {
   "cell_type": "markdown",
   "id": "01d3a896",
   "metadata": {},
   "source": [
    "$$ y = x^2 + 3x $$"
   ]
  },
  {
   "cell_type": "markdown",
   "id": "4d88d1e9",
   "metadata": {},
   "source": [
    "The example can be obtained by differentiating both sides of the original example:"
   ]
  },
  {
   "cell_type": "markdown",
   "id": "91020cb0",
   "metadata": {},
   "source": [
    "$$ (y)' = (x^2 + 3x)' \\to \\frac{dy}{dx} = 2x + 3 $$"
   ]
  },
  {
   "cell_type": "markdown",
   "id": "72b8c264",
   "metadata": {},
   "source": [
    "### Understanding the Initial-Value Problem (IVP)\n",
    "One of the method of solving ODEs is to first manipulate the equation so that each side of itself appears only:\n",
    "1. A variable\n",
    "2. Its derivative\n",
    "\n",
    "Then integrate both sides to obtain a *general* solution, one that resembles the original equation, which is the ultimate goal.\n",
    "\n",
    "For example:"
   ]
  },
  {
   "cell_type": "markdown",
   "id": "f2a31030",
   "metadata": {},
   "source": [
    "$$ \\frac{dy}{dx} = 2x + 3 \\leftrightarrow dy = (2x + 3)dx $$\n",
    "\n",
    "$$ \\int 1\\,dy = \\int 2x + 3\\,dx \\rightarrow y = x^2 + 3x + C_0 $$"
   ]
  },
  {
   "cell_type": "markdown",
   "id": "6a40c487",
   "metadata": {},
   "source": [
    "Notice why $ \\int 1\\,dy = \\int 2x + 3\\,dx $ can be calculated into $ y = x^2 + 3x + C_0 $, but not the other way around? And why there is a $ C_0 $ at the end of the solution that was obtained?\n",
    "\n",
    "Consider a second original equation, with a constant $ 7 $:"
   ]
  },
  {
   "cell_type": "markdown",
   "id": "71a5dab7",
   "metadata": {},
   "source": [
    "$$ y = x^2 + 3x + 7 $$"
   ]
  },
  {
   "cell_type": "markdown",
   "id": "c6a558f9",
   "metadata": {},
   "source": [
    "It can also be differentiated to become the exact ODE as before:"
   ]
  },
  {
   "cell_type": "markdown",
   "id": "bc5a7bed",
   "metadata": {},
   "source": [
    "$$ (y)' = (x^2 + 3x + 7)' \\to \\frac{dy}{dx} = 2x + 3 $$"
   ]
  },
  {
   "cell_type": "markdown",
   "id": "ef59a49b",
   "metadata": {},
   "source": [
    "Here comes the challenging part of solving ODEs: *How can we find out the exact solution if there are multiple original equations that can be differentiated to the same ODE that we are solving?*\n",
    "\n",
    "With only the ODE itself, then *no, it cannot be done*. If another condition, or *constraint* is added to the question, such as:"
   ]
  },
  {
   "cell_type": "markdown",
   "id": "b02341e9",
   "metadata": {},
   "source": [
    "$$ \n",
    "\\begin{cases}\n",
    "\\frac{dy}{dx} = 2x + 3 \\\\\n",
    "y(0) = 7\n",
    "\\end{cases}\n",
    "$$"
   ]
  },
  {
   "cell_type": "markdown",
   "id": "66bf7711",
   "metadata": {},
   "source": [
    "Then $ C_0 $ can be discovered simply by using the initial condition provided: $ 7 = 0^2 + 3.0 + C_0 \\leftrightarrow C_0 = 7 $\n",
    "\n",
    "The problem of finding a $ F(x) $ from its derivative and its $ y_0 $ at some $ x_0 $ is called a **Initial-Value Problem** *(IVP)*, similar to the previous example. Generally, to solve IVPs:\n",
    "1. Find a general solution: $ \\int \\,dy = \\int f(x)\\,dx \\rightarrow y = F(x) + C_0 $\n",
    "2. Apply the initial constraint to the general solution, solve for $ C_0 $"
   ]
  },
  {
   "cell_type": "markdown",
   "id": "f5ada45c",
   "metadata": {},
   "source": [
    "## The *Dynamic of Love* equation\n",
    "### General solution\n",
    "The *Dynamic of Love* between Romeo & Juliet is formularized into a system of equations as such:"
   ]
  },
  {
   "cell_type": "markdown",
   "id": "e4d1bf79",
   "metadata": {},
   "source": [
    "$$ \n",
    "\\begin{cases}\n",
    "\\frac{dR}{dt} = aR + bJ \\\\\n",
    "\\frac{dJ}{dt} = cR + dJ \\\\\n",
    "R(0) = R_0, J(0) = J_0\n",
    "\\end{cases}\n",
    "$$"
   ]
  },
  {
   "cell_type": "markdown",
   "id": "444939b9",
   "metadata": {},
   "source": [
    "where $ R $ is a differentiable function $ R : \\mathbb{R}^+ \\cup {0} \\rightarrow \\mathbb{R} $ that describes the love of **Romeo** for **Juliet** and $ J $ is a similarly differentiable function  $ J : \\mathbb{R}^+ \\cup {0} \\rightarrow \\mathbb{R} $ that describes the love of **Juliet** for **Romeo**.\n",
    "\n",
    "The coefficients describes the interaction between the love of one to the other. Essentially, the *Dynamics of Love* is a system of first-order ODE with provided initial conditions that can be used to narrow down the general solution to achieve the exact solution.\n",
    "\n",
    "This system can be presented into matrices as such:"
   ]
  },
  {
   "cell_type": "markdown",
   "id": "52798518",
   "metadata": {},
   "source": [
    "$$ \\frac{d}{dt} \\begin{pmatrix} R \\\\ J \\end{pmatrix} = \\begin{pmatrix} a &b \\\\ c &d \\end{pmatrix} \\begin{pmatrix} R \\\\ J \\end{pmatrix} $$"
   ]
  },
  {
   "cell_type": "markdown",
   "id": "4d3189e7",
   "metadata": {},
   "source": [
    "which can be presented as $ \\dot{x} = \\vec{A} \\vec{x} $ to correlates it to a general form of an ODE.\n",
    "\n",
    "Often when solving ODEs, an *ansatz* of the original functions are made. $ \\vec{x(t)} $, which represents a column vector that relies on the time $ t $, can be assumed to exist in a form that makes calculation easier if appropriate solutions are found. \n",
    "\n",
    "In this case, let's assume that:"
   ]
  },
  {
   "cell_type": "markdown",
   "id": "63244637",
   "metadata": {},
   "source": [
    "$$ \\vec{x(t)} = \\vec{v}e^{\\lambda t} $$"
   ]
  },
  {
   "cell_type": "markdown",
   "id": "0fa29f84",
   "metadata": {},
   "source": [
    "where $ \\vec{v} $ represents a constant *column vector*, called the **eigenvector**, $ \\lambda $ represents a *scalar* constant. If it can be proven that there exists values of $ \\vec{v} $ and $ \\lambda $ such that $ \\dot{x(t)} = \\vec{A} \\vec{x(t)} $, then the values of $ R $ and $ J $ can be found based on that column vector's values, provided that $ R $, $ J $ and $ x $ relies on the same time series variable.\n",
    "\n",
    "By substituting the ansatz into, $ \\dot{x(t)} = \\vec{A} \\vec{x(t)} $ can be made into an **eigenvalue & eigenvector problem**, which will help finding the values of $\\vec{v}$ and $\\lambda$, as such:"
   ]
  },
  {
   "cell_type": "markdown",
   "id": "29339477",
   "metadata": {},
   "source": [
    "$$ \\dot{x} = \\vec{A} \\vec{x} \\\\\n",
    "\\rightarrow \\frac{d}{dt}(\\vec{v}e^{\\lambda t}) = \\vec{A}(\\vec{v}e^{\\lambda t}) \\\\\n",
    "\\rightarrow \\lambda(\\vec{v}e^{\\lambda t}) = \\vec{A}(\\vec{v}e^{\\lambda t})\n",
    "$$"
   ]
  },
  {
   "cell_type": "markdown",
   "id": "c5b9e7a5",
   "metadata": {},
   "source": [
    "since $ e^{\\lambda t} $ are scalar values and for sure will not be $0$, it can be eliminated from both sides of the equation."
   ]
  },
  {
   "cell_type": "markdown",
   "id": "b3022095",
   "metadata": {},
   "source": [
    "$$ \\vec{A}\\vec{v} = \\lambda \\vec{v} $$"
   ]
  },
  {
   "cell_type": "markdown",
   "id": "ddc76c49",
   "metadata": {},
   "source": [
    "Let's solve for $\\vec{v}$ and $\\lambda$ by using eigenvalues and eigenvectors. It can be further transformed into:"
   ]
  },
  {
   "cell_type": "markdown",
   "id": "1e51dbc2",
   "metadata": {},
   "source": [
    "$$ \\vec{A}\\vec{v} - \\lambda \\vec{v} = 0 \\\\\n",
    "\\leftrightarrow \\vec{A}\\vec{v} - \\lambda I\\vec{v} = 0 \\\\\n",
    "\\leftrightarrow (\\vec{A} - \\lambda I)\\vec{v} = 0\n",
    "$$"
   ]
  },
  {
   "cell_type": "markdown",
   "id": "6d973972",
   "metadata": {},
   "source": [
    "where $I$ is the identity matrix. From our assumption, $\\vec{v}$ is a constant vector column, and since the prospect of it being a zero vector does not benefits our calculations ($\\vec{f(t)}$ will also be a zero vector), let's also assume that it must not be a zero vector.\n",
    "\n",
    "In order to facilitate this asumption, $\\vec{A} - \\lambda I$ cannot be invertible, and therefore its *determinant* of must be $0$. Interestingly, the determinant of this matrix will form a polynomial equation based on $\\lambda$, called the *characteristic equation*, and the value of $\\lambda$'s are called **eigenvalues**. Each eigenvalues corresponds to an **eigenvector** $\\vec{v}$.\n"
   ]
  },
  {
   "cell_type": "markdown",
   "id": "1f56b690",
   "metadata": {},
   "source": [
    "$$\n",
    "det(\\vec{A} - \\lambda I) = 0 \\\\\n",
    "\\leftrightarrow det[\\begin{pmatrix} a &b \\\\ c &d \\end{pmatrix} - \\lambda \\begin{pmatrix} 1 &0 \\\\ 0 &1 \\end{pmatrix}] = 0 \\\\\n",
    "\\leftrightarrow det(\\begin{pmatrix} a - \\lambda &b \\\\ c &d - \\lambda \\end{pmatrix}) = 0 \\\\\n",
    "\\leftrightarrow det(\\vec{A} - \\lambda I) = (a - \\lambda)(d - \\lambda) - bc = 0 \\\\\n",
    "\\leftrightarrow \\lambda^2 - (a + d)\\lambda + (ad - bc) = 0\n",
    "$$"
   ]
  },
  {
   "cell_type": "markdown",
   "id": "fd18d5ad",
   "metadata": {},
   "source": [
    "At this point, solve for eigenvalues $\\lambda$. With these eigenvalues, comes corresponding eigenvectors $\\vec{v}$. Both of which, can be plugged into $ \\vec{x(t)} = \\vec{v}e^{\\lambda t} $ to find $ R $ and $ J $.\n",
    "\n",
    "The quadratice characteristic equation $\\lambda^2 - (a + d)\\lambda + (ad - bc) = 0$, can either:\n",
    "- Have 1 or 2 distinct real roots\n",
    "- Have imaginary roots\n",
    "\n",
    "Based on the eigenvalues obtained from this equation, the method in which $R$ and $J$ is calculated can be a little bit different.\n",
    "\n",
    "Obtaining the eigenvalue $\\vec{v}$ for both real and imaginary eigenvalues $\\lambda$ is the same. Let's assume that the there were 2 solutions of eigenvalues from the characteristic equation. The imaginary eigenvalues consists of a complex number and its *conjugate* complex number. Each eigenvalues will have to go through the same procedure the find their corresponding eigenvector.\n",
    "\n",
    "In this example, $\\lambda = s_1$, which is the first solution of the characteristic equation:"
   ]
  },
  {
   "cell_type": "markdown",
   "id": "4254933c",
   "metadata": {},
   "source": [
    "$$ \n",
    "\\begin{cases}\n",
    "(\\vec{A} - \\lambda I)\\vec{v} = 0 \\\\\n",
    "\\lambda = s_1\n",
    "\\end{cases} \\\\\n",
    "\\leftrightarrow \\begin{pmatrix} a - s_1 &b \\\\ c &d - s_1 \\end{pmatrix} \\begin{pmatrix} v_{11} \\\\ v_{21} \\end{pmatrix} = \\begin{pmatrix} 0 \\\\ 0 \\end{pmatrix} \\\\ \n",
    "$$"
   ]
  },
  {
   "cell_type": "markdown",
   "id": "353e9cb9",
   "metadata": {},
   "source": [
    "Because $\\vec{v}$ cannot be a zero vector, this equation cannot have an unique solution and therefore, $(a-s_1)v_{11} + bv_{21} = 0$ and $cv_{11}+(d-s_1)v_{21} = 0$ must be proportional, and have infinite solutions.\n",
    "\n",
    "The general solution of $\\vec{v_1}$ can be represented through the multiplication of a constant $c_1$ and the column vector representing the proportionality between $v_{11}$ and $v_{21}$ as such:"
   ]
  },
  {
   "cell_type": "markdown",
   "id": "e12b4dc7",
   "metadata": {},
   "source": [
    "$$\n",
    "(a-s_1)v_{11} + bv_{21} = 0 \\\\\n",
    "\\leftrightarrow v_{21} = \\frac{-(a-s_1)}{b}v_{11} \\\\\n",
    "\\leftrightarrow \\vec{v_1} = c_1\\begin{pmatrix} 1 \\\\ \\frac{-(a-s_1)}{b} \\end{pmatrix}\n",
    "$$"
   ]
  },
  {
   "cell_type": "markdown",
   "id": "568c031b",
   "metadata": {},
   "source": [
    "Similarly, solve for $\\lambda = s_2$:"
   ]
  },
  {
   "cell_type": "markdown",
   "id": "f0130b48",
   "metadata": {},
   "source": [
    "$$\n",
    "\\vec{v_2} = c_2\\begin{pmatrix} 1 \\\\ \\frac{-(a-s_2)}{b} \\end{pmatrix}\n",
    "$$"
   ]
  },
  {
   "attachments": {},
   "cell_type": "markdown",
   "id": "d5be7768",
   "metadata": {},
   "source": [
    "### General solution for 2 distinct $\\mathbb{R}$\n",
    "Following the superposition principle of linear systems, the general solution of the system equals to sum of individual equation's general solution:"
   ]
  },
  {
   "cell_type": "markdown",
   "id": "b269be25",
   "metadata": {},
   "source": [
    "$$\n",
    "\\vec{x(t)} = \\vec{x_1(t)} + \\vec{x_2(t)} + \\vec{x_3(t)} + ... + \\vec{x_n(t)}\n",
    "$$"
   ]
  },
  {
   "cell_type": "markdown",
   "id": "1c372a95",
   "metadata": {},
   "source": [
    "Since $\\vec{x(t)} = \\vec{v}e^{\\lambda t}$, the column vector $\\vec{x(t)}$ representing $\\begin{pmatrix}R\\\\J\\end{pmatrix}$ equals the sum of $\\vec{x(t)}$ for each individual eigenvalues, as such:"
   ]
  },
  {
   "cell_type": "markdown",
   "id": "b96b741b",
   "metadata": {},
   "source": [
    "$$\n",
    "\\vec{x(t)} = \\begin{pmatrix}R \\\\ J\\end{pmatrix}=c_1\\begin{pmatrix} 1 \\\\ \\frac{-(a-s_1)}{b} \\end{pmatrix}e^{s_1t} + c_2\\begin{pmatrix} 1 \\\\ \\frac{-(a-s_2)}{b} \\end{pmatrix}e^{s_2t} \\\\\n",
    "\\leftrightarrow\n",
    "\\begin{cases}\n",
    "R(t) = c_1e^{s_1t}+c_2e^{s_2t}\\\\\n",
    "J(t) = c_1\\frac{-(a-s_1)}{b}e^{s_1t} + c_2\\frac{-(a-s_2)}{b}e^{s_2t}\n",
    "\\end{cases}\n",
    "$$"
   ]
  },
  {
   "cell_type": "markdown",
   "id": "ccb26a3c",
   "metadata": {},
   "source": [
    "The initial conditions for $R$ and $J$ were also given at the beginning. They can be used to find the constants $c_1$ and $c_2$ through this system of linear equations, thus completing the general solution to become exact solution of the initial problem:"
   ]
  },
  {
   "cell_type": "markdown",
   "id": "ad26352f",
   "metadata": {},
   "source": [
    "$$\n",
    "\\begin{cases}\n",
    "R(0) = c_1 + c_2 \\\\\n",
    "J(0) = c_1\\frac{-(a-s_1)}{b} + c_2\\frac{-(a-s_2)}{b}\n",
    "\\end{cases}\n",
    "$$"
   ]
  },
  {
   "cell_type": "markdown",
   "id": "e4cb9d43",
   "metadata": {},
   "source": [
    "Let $m_1=\\frac{-(a-s_1)}{b} $, $m_2=\\frac{-(a-s_2)}{b} $, the solution for $c_1$ and $c_2$ is:"
   ]
  },
  {
   "cell_type": "markdown",
   "id": "ec895b3c",
   "metadata": {},
   "source": [
    "$$\n",
    "\n",
    "\\begin{cases}\n",
    "c_1 = \\frac{J(0)-R(0)m_2}{m_1-m_2} \\\\\n",
    "c_2 = R(0) - c_1\n",
    "\\end{cases}\n",
    "\n",
    "$$"
   ]
  },
  {
   "attachments": {},
   "cell_type": "markdown",
   "id": "8dfc9178",
   "metadata": {},
   "source": [
    "### General solution for complex eigenvalues\n",
    "The characteristic equation can received a 2 complex solutions, with one of them being the complex conjugate of the other.\n",
    "\n",
    "The general solution of $\\vec{x(t)}$ for complex eigenvalue $r_1+g_1i$ is given by:"
   ]
  },
  {
   "cell_type": "markdown",
   "id": "7c063f0b",
   "metadata": {},
   "source": [
    "$$\n",
    "\\vec{x(t)} = c_1Re\\{\\vec{v}e^{\\lambda t}\\} + c_2Im\\{\\vec{v}e^{\\lambda t}\\} \\\\\n",
    "= c_1Re\\{\\begin{pmatrix}1 \\\\ \\frac{-a + r_1 + g_1i}{b}\\end{pmatrix} e^{(r_1+g_1i)t}\\}+c_2Im\\{\\begin{pmatrix}1 \\\\ \\frac{-a + r_1 + g_1i}{b}\\end{pmatrix} e^{(r_1+g_1i)t}\\} \\\\\n",
    "= c_1e^{r_1t}Re\\{\\begin{pmatrix}1 \\\\ \\frac{-a + r_1 + g_1i}{b}\\end{pmatrix} e^{g_1it}\\}+c_2e^{r_1t}Im\\{\\begin{pmatrix}1 \\\\ \\frac{-a + r_1 + g_1i}{b}\\end{pmatrix} e^{g_1it}\\}\n",
    "$$"
   ]
  },
  {
   "cell_type": "markdown",
   "id": "478b8356",
   "metadata": {},
   "source": [
    "With Euler's formula $e^{(r_1 + g_1i)t} = e^{r_1t}(\\cos{g_1t} + \\sin{g_1t}) $, the general solution for $\\vec{x(t)}$ becomes:"
   ]
  },
  {
   "cell_type": "markdown",
   "id": "3350c7d1",
   "metadata": {},
   "source": [
    "$$\n",
    "\\vec{x(t)} = c_1e^{r_1t}Re\\{\\begin{pmatrix}1 \\\\ \\frac{-a + r_1 + g_1i}{b}\\end{pmatrix} (\\cos{g_1t} + i\\sin{g_1t}) \\}+c_2e^{r_1t}Im\\{\\begin{pmatrix}1 \\\\ \\frac{-a + r_1 + g_1i}{b}\\end{pmatrix} (\\cos{g_1t} + i\\sin{g_1t})\\} \\\\\n",
    "\\begin{pmatrix}R\\\\J\\end{pmatrix}= c_1e^{r_1t}\\begin{pmatrix}\\cos{g_1t} \\\\ \\frac{-a+r_1}{b} \\cos{g_1t} - \\frac{g_1}{b}\\sin{g_1t} \\end{pmatrix}+c_2e^{r_1t}\\begin{pmatrix}\\sin{g_1t} \\\\ \\frac{g_1}{b}\\cos{g_1t} + \\frac{-a+r_1}{b}\\sin{g_1t} \\end{pmatrix}\n",
    "$$"
   ]
  },
  {
   "cell_type": "markdown",
   "id": "cd8305eb",
   "metadata": {},
   "source": [
    "And the general solution becomes:"
   ]
  },
  {
   "cell_type": "markdown",
   "id": "85ff9c58",
   "metadata": {},
   "source": [
    "$$\n",
    "\n",
    "\\begin{cases}\n",
    "R(t) = c_1e^{r_1t}\\cos{g_1t}+c_2e^{r_1t}\\sin{g_1t}\\\\\n",
    "J(t) = c_1e^{r_1t}(\\frac{-a+r_1}{b} \\cos{g_1t} - \\frac{g_1}{b}\\sin{g_1t}) + c_2e^{r_1t}(\\frac{g_1}{b}\\cos{g_1t} + \\frac{-a+r_1}{b}\\sin{g_1t})\n",
    "\\end{cases}\n",
    "\n",
    "$$"
   ]
  },
  {
   "cell_type": "markdown",
   "id": "04fa29ec",
   "metadata": {},
   "source": [
    "Then, apply the initial conditions to get a system of equation for $c_1$ and $c_2$ as followed:"
   ]
  },
  {
   "cell_type": "markdown",
   "id": "2282e601",
   "metadata": {},
   "source": [
    "$$\n",
    "\n",
    "\\begin{cases}\n",
    "R(0) = c_1 \\\\\n",
    "J(0) = c_1\\frac{-a+r_1}{b} + c_2\\frac{g_1}{b}\n",
    "\\end{cases}\n",
    "\n",
    "\\leftrightarrow \n",
    "\\begin{cases}\n",
    "c_1 = R(0) \\\\\n",
    "c_2 = \\frac{J(0)b-R(0)(-a+r_1)}{g_1}\n",
    "\\end{cases}\n",
    "\n",
    "$$"
   ]
  },
  {
   "attachments": {},
   "cell_type": "markdown",
   "id": "a736eaa0",
   "metadata": {},
   "source": [
    "### General solution for repeated eigenvalues\n",
    "The last case that could happen is that the solution of the characteristic equation is repeated, which means that there could only be one eigenvalue derived from that equation. In that case, let's call the derived eigenvalue $\\lambda_0$. Since the characteristic equation is also a quadratic equation, the value for $\\lambda_0$ is $\\frac{a+d}{2}$\n",
    "\n",
    "As previously shown, an eigenvector can be found in through this formula:\n",
    "$$\n",
    "\\vec{v_1} = c_0\\begin{pmatrix} 1 \\\\ \\frac{-(a-\\lambda_0)}{b} \\end{pmatrix}\n",
    "$$\n",
    "In our case, the solution to the characteristic equation is unique, which means that is eigenvalue is unique and therefore this is the only eigenvector that can be derived directly from solving the equation.\n",
    "$$\n",
    "\\vec{v_0} = c_0\\begin{pmatrix} 1 \\\\ \\frac{-(a-\\frac{a+d}{2})}{b} \\end{pmatrix} \\\\\n",
    "\\leftrightarrow \\vec{v_0} = c_0\\begin{pmatrix} 1 \\\\ -\\frac{\\frac{a-d}{2}}{b} \\end{pmatrix} \\\\\n",
    "\\leftrightarrow \\vec{v_0} = c_0\\begin{pmatrix} 1 \\\\ \\frac{d-a}{2b} \\end{pmatrix}\n",
    "$$"
   ]
  },
  {
   "attachments": {},
   "cell_type": "markdown",
   "id": "ae934a56",
   "metadata": {},
   "source": [
    "We needs another eigenvector, however. Let's find another one using our newly found eigenvector.\n",
    "$$ \n",
    "\\begin{cases}\n",
    "(\\vec{A} - \\lambda I)\\vec{v} = 0 \\\\\n",
    "\\lambda = \\lambda_0\n",
    "\\end{cases} \\\\\n",
    "\\leftrightarrow \\begin{pmatrix} a - \\lambda_0 &b \\\\ c &d - \\lambda_0 \\end{pmatrix} \\begin{pmatrix} v_{11} \\\\ v_{21} \\end{pmatrix} = \\begin{pmatrix} 1 \\\\ \\frac{d-a}{2b} \\end{pmatrix} \\\\ \n",
    "$$\n",
    "As explained in earlier sections, the linear equations derived from this equation will be proportional. Therefore a $c$ constant is added to the eigenvector to present the eigenvector as a \"general\" solution.\n",
    "$$\n",
    "(a-\\lambda_0)v_{11} + bv_{21} = 1\n",
    "$$\n",
    "We can now pick 0 as an arbitrary value for $v_{21}$ since $v_{11}$ will not also be 0, which is required as stated at the beginning.\n",
    "$$\n",
    "(a-\\lambda_0)v_{11} + b0 = 1\\\\\n",
    "\\leftrightarrow v_{11} = \\frac{1}{a-\\lambda_0} = \\frac{2}{a-d}\\\\\n",
    "\\leftrightarrow \\vec{v_1} = c_1\\begin{pmatrix} \\frac{2}{a-d} \\\\ 0 \\end{pmatrix}\n",
    "$$"
   ]
  },
  {
   "attachments": {},
   "cell_type": "markdown",
   "id": "75fbffb5",
   "metadata": {},
   "source": [
    "The general solution for repeated eigenvalues is:\n",
    "$$\n",
    "\\vec{x(t)} = \\begin{pmatrix}R \\\\ J \\end{pmatrix} = c_0\\begin{pmatrix} 1 \\\\ \\frac{d-a}{2b} \\end{pmatrix} e^{\\frac{a+d}{2}t} + c_1[\\begin{pmatrix} 1 \\\\ \\frac{d-a}{2b} \\end{pmatrix}t e^{\\frac{a+d}{2}t} + \\begin{pmatrix} \\frac{2}{a-d} \\\\ 0 \\end{pmatrix} e^{\\frac{a+d}{2}t}]\n",
    "\\\\\n",
    "\\leftrightarrow \n",
    "\n",
    "\\begin{cases}\n",
    "R(t) = e^{\\frac{a+d}{2}t} (c_0 + c_1t + c_1\\frac{2}{a-d})\\\\\n",
    "J(t) = e^{\\frac{a+d}{2}t} (c_0\\frac{d-a}{2b} + c_1\\frac{d-a}{2b}t)\n",
    "\\end{cases}\n",
    "\n",
    "$$"
   ]
  },
  {
   "attachments": {},
   "cell_type": "markdown",
   "id": "eb469ab8",
   "metadata": {},
   "source": [
    "Using the initial values, our constants are:\n",
    "$$\n",
    "\n",
    "\\begin{cases}\n",
    "R(t) = c_0 + c_1\\frac{2}{a-d}\\\\\n",
    "J(t) = c_0\\frac{d-a}{2b}\n",
    "\\end{cases}\n",
    "\n",
    "\\leftrightarrow \n",
    "\\begin{cases}\n",
    "c_0 = \\frac{R(0)-\\frac{2bJ(0)}{d-a}}{2}(a-d)\\\\\n",
    "c_1 = \\frac{2bJ(0)}{d-a}\n",
    "\\end{cases}\n",
    "\n",
    "$$"
   ]
  },
  {
   "cell_type": "markdown",
   "id": "d65c6602",
   "metadata": {},
   "source": [
    "### Phase portrait classification\n",
    "Depending on the value of the eigenvalues received as solutions of the characteristic equation, how the phase portrait of the original system of equation look like, can be estimated.\n"
   ]
  },
  {
   "cell_type": "markdown",
   "id": "84dae6a1",
   "metadata": {},
   "source": [
    "| $Re{\\lambda_1}$ | $Re{\\lambda_2}$ | $Im{\\lambda_1}$ | $Im{\\lambda_2}$ | Classification |\n",
    "|---|---|---|---|---|\n",
    "| + | + | 0 | 0 | Node (unstable) |\n",
    "| - | - | 0 | 0 | Node (stable) |\n",
    "| + | - | 0 | 0 | Saddle point |\n",
    "| - | + | 0 | 0 | Saddle point |\n",
    "| 0 | 0 | + | - | Center |\n",
    "| 0 | 0 | - | + | Center |\n",
    "| + | + | + | - | Spiral point (unstable) |\n",
    "| + | + | - | + | Spiral point (unstable) |\n",
    "| - | - | + | - | Spiral point (stable) |\n",
    "| - | - | - | + | Spiral point (stable) |"
   ]
  },
  {
   "cell_type": "markdown",
   "id": "d3a894db",
   "metadata": {},
   "source": [
    "### Solving for exact solution with Python\n",
    "#### Dependencies\n",
    "`numpy` provides a nice set of tools for working with mathematics in Python, and it will be used as a core library for solving ODEs using our own general solution.\n",
    "Also, `matplotlib` will be used for plotting graphs and drawing phase portraits of examples."
   ]
  },
  {
   "cell_type": "code",
   "execution_count": 49,
   "id": "d2719724",
   "metadata": {},
   "outputs": [],
   "source": [
    "import numpy as np\n",
    "import matplotlib.pyplot as plt\n",
    "\n",
    "# Numpy classes\n",
    "from numpy.polynomial import Polynomial"
   ]
  },
  {
   "cell_type": "markdown",
   "id": "9541ed61",
   "metadata": {},
   "source": [
    "#### Modelize the problem\n",
    "These functions will be used as utility functions for solving or finding the result of a smaller problems.\n",
    "\n",
    "The original problem will also be abstracted into a class, with utility functions, in order to make adding and solving examples easier to later."
   ]
  },
  {
   "cell_type": "code",
   "execution_count": 50,
   "id": "e11cb470",
   "metadata": {},
   "outputs": [],
   "source": [
    "\n",
    "#\n",
    "# Dynamics Of Love problem\n",
    "# @params   A: coefficient matrix\n",
    "#           r0: initial condition for R\n",
    "#           j0: initial condition for J\n",
    "#\n",
    "class EquationSystem:\n",
    "    def __init__(self, A, r0, j0):\n",
    "        self.A = A\n",
    "        self.r0 = r0\n",
    "        self.j0 = j0\n",
    "        self.cache_eigvals = []\n",
    "        self.cache_eigvects = []\n",
    "        self.cache_consts = []\n",
    "\n",
    "    #\n",
    "    # Coefficient getters\n",
    "    #\n",
    "    def a(self):\n",
    "        return self.A[0][0]\n",
    "\n",
    "    def b(self):\n",
    "        return self.A[0][1]\n",
    "\n",
    "    def c(self):\n",
    "        return self.A[1][0]\n",
    "\n",
    "    def d(self):\n",
    "        return self.A[1][1]\n",
    "\n",
    "    #\n",
    "    # Returns the polynomial representing the characteristic equation\n",
    "    #\n",
    "    def __char_equation(self):\n",
    "        # eig^2 - (a + d)eig + (ad - bc) = 0\n",
    "        return [1, -(self.a() + self.d()), (self.a()*self.d() - self.b()*self.c())]\n",
    "\n",
    "    #\n",
    "    # Solves the characteristic equation\n",
    "    #\n",
    "    def __solve_char_equation(self):\n",
    "        # Is required for newer numpy Polynomial\n",
    "        coeff = list(reversed(self.__char_equation()))\n",
    "        p = Polynomial(coeff)\n",
    "        self.cache_eigvals = p.roots().tolist()\n",
    "        return self.cache_eigvals\n",
    "\n",
    "    #\n",
    "    # Returns array of eigenvectors\n",
    "    #\n",
    "    def eigenvects(self):\n",
    "        # Update root cache if not there already\n",
    "        if not self.cache_eigvals:\n",
    "            self.__solve_char_equation()\n",
    "\n",
    "        if not self.cache_eigvects:\n",
    "            v1 = [1, (-self.a() + self.cache_eigvals[0]) / self.b()]\n",
    "            v2 = [1, (-self.a() + self.cache_eigvals[1]) / self.b()]\n",
    "            if isinstance(v1[1], complex):\n",
    "                v1 = [1, np.around(v1[1], 3)]\n",
    "                v2 = [1, np.around(v2[1], 3)]\n",
    "            self.cache_eigvects = [v1, v2]\n",
    "            \n",
    "        return self.cache_eigvects\n",
    "\n",
    "    #\n",
    "    # Get constants of c1, c2\n",
    "    #\n",
    "    def constants(self):\n",
    "        # Update root cache if not there already\n",
    "        if not self.cache_eigvals:\n",
    "            self.__solve_char_equation()\n",
    "\n",
    "        if self.cache_consts:\n",
    "            return self.cache_consts\n",
    "\n",
    "        # If eigenvalues are complex numbers\n",
    "        if isinstance(self.cache_eigvals[0], complex):\n",
    "            # Get real and imaginary parts\n",
    "            r1 = self.cache_eigvals[0].real\n",
    "            g1 = self.cache_eigvals[0].imag\n",
    "\n",
    "            # Return constants for complex eigenvalues\n",
    "            c1 = self.r0\n",
    "            c2 = (self.j0*self.b() - self.r0*(-self.a() + r1)) / g1\n",
    "            self.cache_consts = [c1, c2]\n",
    "            return self.cache_consts\n",
    "        \n",
    "        # If eigenvalues are repeated\n",
    "        if self.cache_eigvals[0] == self.cache_eigvals[1]:\n",
    "            c2 = (2*self.b() - self.j0) / (self.d() - self.a())\n",
    "            c1 = (self.r0 - c1) * (self.a() - self.d()) / 2\n",
    "            self.cache_consts = [c1, c2]\n",
    "            return self.cache_consts\n",
    "\n",
    "        # If eigenvalues are real\n",
    "        m1 = -(self.a() - self.cache_eigvals[0]) / self.b()\n",
    "        m2 = -(self.a() - self.cache_eigvals[1]) / self.b()\n",
    "\n",
    "        c1 = (self.j0 - self.r0*m2) / (m1 - m2)\n",
    "        c2 = self.r0 - c1\n",
    "        self.cache_consts = [c1, c2]\n",
    "        return self.cache_consts\n",
    "\n",
    "    #\n",
    "    # Get R(t)\n",
    "    # @params   t: value of time\n",
    "    #\n",
    "    def rt(self, t):\n",
    "        consts = self.constants()  # Get constants\n",
    "        c1 = consts[0]\n",
    "        c2 = consts[1]\n",
    "\n",
    "        eivects = self.eigenvects()  # Get eigenvectors\n",
    "        v1 = eivects[0]\n",
    "        v2 = eivects[1]\n",
    "\n",
    "        s1 = self.cache_eigvals[0]\n",
    "        s2 = self.cache_eigvals[1]\n",
    "\n",
    "        # If eigenvalues are complex numbers\n",
    "        if isinstance(s1, complex):\n",
    "            r1 = s1.real\n",
    "            g1 = s1.imag\n",
    "            return c1*np.exp(r1*t)*np.cos(g1*t) + c2*np.exp(r1*t)*np.sin(g1*t)\n",
    "        \n",
    "        # If eigenvalues are repeated\n",
    "        if s1 == s2:\n",
    "            return np.exp(s1*t)*(c1 + c2*t + c2*(2 / (self.a() - self.d())))\n",
    "\n",
    "        # If eigenvalues are real\n",
    "        return c1*np.exp(s1*t) + c2*np.exp(s2*t)\n",
    "\n",
    "    #\n",
    "    # Get J(t)\n",
    "    # @params   t: value of time\n",
    "    #\n",
    "    def jt(self, t):\n",
    "        consts = self.constants()\n",
    "        c1 = consts[0]\n",
    "        c2 = consts[1]\n",
    "\n",
    "        eivects = self.eigenvects()\n",
    "        v1 = eivects[0]\n",
    "        v2 = eivects[1]\n",
    "\n",
    "        s1 = self.cache_eigvals[0]\n",
    "        s2 = self.cache_eigvals[1]\n",
    "\n",
    "        # If eigenvalues are complex numbers\n",
    "        if isinstance(s1, complex):\n",
    "            r1 = s1.real\n",
    "            g1 = s1.imag\n",
    "\n",
    "            arb = (-self.a() + r1) / self.b()\n",
    "            gb = g1 / self.b()\n",
    "            return c1*np.exp(r1*t)*(arb*np.cos(g1*t) - gb*np.sin(g1*t)) + c2*np.exp(r1*t)*(gb*np.cos(g1*t) + arb*np.sin(g1*t))\n",
    "\n",
    "        # If eigenvalues are repeated\n",
    "        if s1 == s2:\n",
    "            return np.exp(s1*t)*(c1*(self.d() - self.a()) / 2*self.b() + c2*t*(self.d() - self.a()) / 2*self.b())\n",
    "            \n",
    "        # If eigenvalues are real\n",
    "        as1b = (-self.a() + s1) / self.b()\n",
    "        as2b = (-self.a() + s2) / self.b()\n",
    "        return c1*as1b*np.exp(s1*t) + c2*as2b*np.exp(s2*t)\n",
    "\n",
    "    #\n",
    "    # Prints the results\n",
    "    #\n",
    "    def __str__(self):\n",
    "        eqa = self.__char_equation()\n",
    "\n",
    "        consts = self.constants()\n",
    "        c1 = round(consts[0], 3)\n",
    "        c2 = round(consts[1], 3)\n",
    "\n",
    "        eivects = self.eigenvects()\n",
    "        v1 = eivects[0]\n",
    "        v2 = eivects[1]\n",
    "\n",
    "        s1 = self.cache_eigvals[0]\n",
    "        s2 = self.cache_eigvals[1]\n",
    "        rt = \"\"\n",
    "        jt = \"\"\n",
    "        eq_type = \"\"\n",
    "        if isinstance(s1, complex):\n",
    "            # If eigenvalues are complex\n",
    "            eq_type = \"Conjugate complex\"\n",
    "            r1 = round(s1.real, 3)\n",
    "            g1 = round(s1.imag, 3)\n",
    "\n",
    "            arb = np.around((-self.a() + r1) / self.b(), 3)\n",
    "            gb = np.around(g1 / self.b(), 3)\n",
    "\n",
    "            s1 = np.around(s1, 3)\n",
    "            s2 = np.around(s2, 3)\n",
    "\n",
    "            rt = f\"{c1}*e^({r1}*t)*cos({g1}*t) + {c2}*e^({r1}*t)*sin({g1}*t)\"\n",
    "            jt = f\"{c1}*e^({r1}*t)*({arb}*cos({g1}*t) - {gb}*sin({g1}*t)) + {c2}*e^({r1}*t)*({gb}*cos({g1}*t) + {arb}*sin({g1}*t))\"\n",
    "        elif s1 == s2:\n",
    "            # If eigenvalues are repeated\n",
    "            eq_type = \"Repeated eigenvalues\"\n",
    "            rt = f\"e^({s1}*t)*({c1} + {c2}*t + {c_2}*(2 / ({self.a()} - {self.d()})))\"\n",
    "            jt = f\"e^({s1}*t)*({c1}*(({self.d()} - {self.a()}) / 2*{self.b()}) + {c2}*t*(({self.d()} - {self.a()}) / 2*{self.b()}))\"\n",
    "        else:\n",
    "            # If eigenvalues are real\n",
    "            eq_type = \"Distinct eigenvalues\"\n",
    "            as1b = np.around((-self.a() + s1) / self.b(), 3)\n",
    "            as2b = np.around((-self.a() + s2) / self.b(), 3)\n",
    "            rt = f\"{c1}*e^({s1}*t) + {c2}*e^({s2}*t)\"\n",
    "            jt = f\"{c1*as1b}*e^({s1}*t) + {c2*as2b}*e^({s2}*t)\"\n",
    "\n",
    "        # Report\n",
    "        return f\"\"\"\n",
    "        Type: {eq_type}\n",
    "        Characteristic equation: λ^2 + ({eqa[1]})λ + ({eqa[2]})\n",
    "        Eigenvalues: s1 = {s1}, s2 = {s2}\n",
    "        Eigenvectors: v1 = {v1}, v2 = {v2}\n",
    "        Constants: c1 = {c1}, c2 = {c2}\n",
    "        R(t) = {rt}\n",
    "        J(t) = {jt}\n",
    "        \"\"\"\n",
    "        \n",
    "    #\n",
    "    # Draws the solution graph\n",
    "    #\n",
    "    def __solution_graph__(self, plotter=plt):\n",
    "        # Draw trajectory\n",
    "        tspan = np.linspace(0, 10, 200)\n",
    "        rm_res, jl_res, ovr_res = [], [], []\n",
    "        for t_ind in range(len(tspan)):\n",
    "            rm_res.append(self.rt(tspan[t_ind]))\n",
    "            jl_res.append(self.jt(tspan[t_ind]))\n",
    "        \n",
    "        # Graph settings\n",
    "        plotter.plot(tspan, rm_res, \"r\", label=\"Love of Romeo\")\n",
    "        plotter.plot(tspan, jl_res, \"g\", label=\"Love of Juliet\")\n",
    "        plotter.legend(loc=\"upper right\")\n",
    "        \n",
    "        plotter.set(xlabel=\"t\", ylabel=\"Amount of love\")\n",
    "        \n",
    "    #\n",
    "    # Draws the phase portrait\n",
    "    #\n",
    "    def __portrait__(self, plotter=plt):\n",
    "        # Define linear space\n",
    "        rs = np.linspace(-2.0, 2.0, 10)\n",
    "        js = np.linspace(-2.0, 2.0, 10)\n",
    "        \n",
    "        R, J = np.meshgrid(rs, js)\n",
    "        Rd, Jd = np.zeros(R.shape), np.zeros(J.shape)\n",
    "        \n",
    "        R_range, J_range = R.shape\n",
    "        for i in range(R_range):\n",
    "            for j in range(J_range):\n",
    "                rm = R[i, j]\n",
    "                jl = J[i, j]\n",
    "                Rd[i, j] = self.a()*rm + self.b()*jl\n",
    "                Jd[i, j] = self.c()*rm + self.d()*jl\n",
    "                \n",
    "        # Draw trajectory\n",
    "        tspan = np.linspace(0, 10, 200)\n",
    "        rm_res, jl_res, ovr_res = [], [], []\n",
    "        for t_ind in range(len(tspan) - 1):\n",
    "            rm_res.append(self.rt(tspan[t_ind]))\n",
    "            jl_res.append(self.jt(tspan[t_ind]))\n",
    "                \n",
    "        # Graph settings\n",
    "        graph = plotter.quiver(R, J, Rd, Jd, color=\"r\", label=\"Vector field\")\n",
    "        plotter.set(xlabel=\"$R(t)$\", ylabel=\"$J(t)$\")\n",
    "        \n",
    "        plotter.plot(rm_res, jl_res, 'b-', label=\"Trajectory\") # Path\n",
    "        plotter.plot([rm_res[0]], [jl_res[0]], 'o') # Start\n",
    "        plotter.plot([rm_res[-1]], [jl_res[-1]], 's') # End\n",
    "        \n",
    "        plotter.legend(loc=\"upper right\")\n",
    "        plotter.set_xlim([-4, 8])\n",
    "        plotter.set_ylim([-4, 4])\n",
    "    \n",
    "    #\n",
    "    # Plot both\n",
    "    #\n",
    "    def plot(self):\n",
    "        fig, [fst, sec] = plt.subplots(1, 2, sharey=False)\n",
    "        self.__solution_graph__(fst)\n",
    "        self.__portrait__(sec)\n",
    "        plt.subplots_adjust(wspace=0.5)\n",
    "        \n"
   ]
  },
  {
   "attachments": {},
   "cell_type": "markdown",
   "id": "3cb53188",
   "metadata": {},
   "source": [
    "#### Examples"
   ]
  },
  {
   "attachments": {},
   "cell_type": "markdown",
   "id": "ae9ee06f",
   "metadata": {},
   "source": [
    "##### Unstable spiral\n",
    "**Example**\n",
    "\n",
    "$$\n",
    "\\begin{cases}\n",
    "R' = 3R + J \\\\\n",
    "J' = -3R + 2J \\\\\n",
    "R(0) = 1, \n",
    "J(0) = 1\n",
    "\\end{cases}\n",
    "\n",
    "$$"
   ]
  },
  {
   "cell_type": "code",
   "execution_count": 51,
   "id": "7ed1b839",
   "metadata": {},
   "outputs": [
    {
     "name": "stdout",
     "output_type": "stream",
     "text": [
      "\n",
      "        Type: Conjugate complex\n",
      "        Characteristic equation: λ^2 + (-5)λ + (9)\n",
      "        Eigenvalues: s1 = (2.5-1.658j), s2 = (2.5+1.658j)\n",
      "        Eigenvectors: v1 = [1, (-0.5-1.658j)], v2 = [1, (-0.5+1.658j)]\n",
      "        Constants: c1 = 1, c2 = -0.905\n",
      "        R(t) = 1*e^(2.5*t)*cos(-1.658*t) + -0.905*e^(2.5*t)*sin(-1.658*t)\n",
      "        J(t) = 1*e^(2.5*t)*(-0.5*cos(-1.658*t) - -1.658*sin(-1.658*t)) + -0.905*e^(2.5*t)*(-1.658*cos(-1.658*t) + -0.5*sin(-1.658*t))\n",
      "        \n"
     ]
    },
    {
     "data": {
      "image/png": "[encoded data removed]",
      "text/plain": [
       "<Figure size 432x288 with 2 Axes>"
      ]
     },
     "metadata": {
      "needs_background": "light"
     },
     "output_type": "display_data"
    }
   ],
   "source": [
    "bc_1 = EquationSystem([[3, 1], [-3, 2]], 1, 1)\n",
    "print(bc_1)\n",
    "bc_1.plot()"
   ]
  },
  {
   "attachments": {},
   "cell_type": "markdown",
   "id": "d0b27cbe",
   "metadata": {},
   "source": [
    "##### Stable spiral\n",
    "**Example**\n",
    "$$\n",
    "\n",
    "\\begin{cases}\n",
    "R' = 3R + 3J \\\\\n",
    "J' = -2R - 1J \\\\\n",
    "R(0) = -4, J(0) = 2\n",
    "\\end{cases}\n",
    "\n",
    "$$"
   ]
  },
  {
   "cell_type": "code",
   "execution_count": 52,
   "id": "f31f02ee",
   "metadata": {},
   "outputs": [
    {
     "name": "stdout",
     "output_type": "stream",
     "text": [
      "\n",
      "        Type: Conjugate complex\n",
      "        Characteristic equation: λ^2 + (2)λ + (3)\n",
      "        Eigenvalues: s1 = (-1-1.414j), s2 = (-1+1.414j)\n",
      "        Eigenvectors: v1 = [1, (0.667-0.471j)], v2 = [1, (0.667+0.471j)]\n",
      "        Constants: c1 = -4, c2 = -9.899\n",
      "        R(t) = -4*e^(-1.0*t)*cos(-1.414*t) + -9.899*e^(-1.0*t)*sin(-1.414*t)\n",
      "        J(t) = -4*e^(-1.0*t)*(0.667*cos(-1.414*t) - -0.471*sin(-1.414*t)) + -9.899*e^(-1.0*t)*(-0.471*cos(-1.414*t) + 0.667*sin(-1.414*t))\n",
      "        \n"
     ]
    },
    {
     "data": {
      "image/png": "[encoded data removed]",
      "text/plain": [
       "<Figure size 432x288 with 2 Axes>"
      ]
     },
     "metadata": {
      "needs_background": "light"
     },
     "output_type": "display_data"
    }
   ],
   "source": [
    "bh_1 = EquationSystem([[-3, 3], [-2, 1]], -4, 2)\n",
    "print(bh_1)\n",
    "bh_1.plot()"
   ]
  },
  {
   "attachments": {},
   "cell_type": "markdown",
   "id": "efe8aecc",
   "metadata": {},
   "source": [
    "##### Stable node\n",
    "**Example**\n",
    "$$\n",
    "\\begin{cases}\n",
    "R' = R + 2J \\\\\n",
    "J' = 3R + 2J \\\\\n",
    "R(0) = 1, \n",
    "J(0) = 2\n",
    "\\end{cases}\n",
    "$$"
   ]
  },
  {
   "cell_type": "code",
   "execution_count": 53,
   "id": "2b5a847f",
   "metadata": {},
   "outputs": [
    {
     "name": "stdout",
     "output_type": "stream",
     "text": [
      "\n",
      "        Type: Distinct eigenvalues\n",
      "        Characteristic equation: λ^2 + (-3)λ + (-4)\n",
      "        Eigenvalues: s1 = -1.0, s2 = 4.0\n",
      "        Eigenvectors: v1 = [1, -1.0], v2 = [1, 1.5]\n",
      "        Constants: c1 = -0.2, c2 = 1.2\n",
      "        R(t) = -0.2*e^(-1.0*t) + 1.2*e^(4.0*t)\n",
      "        J(t) = 0.2*e^(-1.0*t) + 1.7999999999999998*e^(4.0*t)\n",
      "        \n"
     ]
    },
    {
     "data": {
      "image/png": "[encoded data removed]",
      "text/plain": [
       "<Figure size 432x288 with 2 Axes>"
      ]
     },
     "metadata": {
      "needs_background": "light"
     },
     "output_type": "display_data"
    }
   ],
   "source": [
    "bb_1 = EquationSystem([[1, 2], [3, 2]], 1, 2)\n",
    "print(bb_1)\n",
    "bb_1.plot()"
   ]
  },
  {
   "attachments": {},
   "cell_type": "markdown",
   "id": "c6bb8d67",
   "metadata": {},
   "source": [
    "##### Unstable node\n",
    "**Example**\n",
    "\n",
    "$$\n",
    "\\begin{cases}\n",
    "R' = 2R + J \\\\\n",
    "J' = 3R + 4J \\\\\n",
    "R(0) = 1, \n",
    "J(0) = 2\n",
    "\\end{cases}\n",
    "\n",
    "$$"
   ]
  },
  {
   "cell_type": "code",
   "execution_count": 54,
   "id": "bd6327fc",
   "metadata": {},
   "outputs": [
    {
     "name": "stdout",
     "output_type": "stream",
     "text": [
      "\n",
      "        Type: Distinct eigenvalues\n",
      "        Characteristic equation: λ^2 + (-6)λ + (5)\n",
      "        Eigenvalues: s1 = 1.0, s2 = 5.0\n",
      "        Eigenvectors: v1 = [1, -1.0], v2 = [1, 3.0]\n",
      "        Constants: c1 = 0.25, c2 = 0.75\n",
      "        R(t) = 0.25*e^(1.0*t) + 0.75*e^(5.0*t)\n",
      "        J(t) = -0.25*e^(1.0*t) + 2.25*e^(5.0*t)\n",
      "        \n"
     ]
    },
    {
     "data": {
      "image/png": "[encoded data removed]",
      "text/plain": [
       "<Figure size 432x288 with 2 Axes>"
      ]
     },
     "metadata": {
      "needs_background": "light"
     },
     "output_type": "display_data"
    }
   ],
   "source": [
    "ee_1 = EquationSystem([[2, 1], [3, 4]], 1, 2)\n",
    "print(ee_1)\n",
    "ee_1.plot()"
   ]
  },
  {
   "attachments": {},
   "cell_type": "markdown",
   "id": "87db1745",
   "metadata": {},
   "source": [
    "##### Center\n",
    "**Example**\n",
    "\n",
    "$$\n",
    "\\begin{cases}\n",
    "R' = R - 2J \\\\\n",
    "J' = 2R - J \\\\\n",
    "R(0) = 1, \n",
    "J(0) = 2\n",
    "\\end{cases}\n",
    "\n",
    "$$"
   ]
  },
  {
   "cell_type": "code",
   "execution_count": 55,
   "id": "90d80592",
   "metadata": {},
   "outputs": [
    {
     "name": "stdout",
     "output_type": "stream",
     "text": [
      "\n",
      "        Type: Conjugate complex\n",
      "        Characteristic equation: λ^2 + (0)λ + (3)\n",
      "        Eigenvalues: s1 = -1.732j, s2 = 1.732j\n",
      "        Eigenvectors: v1 = [1, (0.5+0.866j)], v2 = [1, (0.5-0.866j)]\n",
      "        Constants: c1 = 1, c2 = 1.732\n",
      "        R(t) = 1*e^(0.0*t)*cos(-1.732*t) + 1.732*e^(0.0*t)*sin(-1.732*t)\n",
      "        J(t) = 1*e^(0.0*t)*(0.5*cos(-1.732*t) - 0.866*sin(-1.732*t)) + 1.732*e^(0.0*t)*(0.866*cos(-1.732*t) + 0.5*sin(-1.732*t))\n",
      "        \n"
     ]
    },
    {
     "data": {
      "image/png": "[encoded data removed]",
      "text/plain": [
       "<Figure size 432x288 with 2 Axes>"
      ]
     },
     "metadata": {
      "needs_background": "light"
     },
     "output_type": "display_data"
    }
   ],
   "source": [
    "nn_1 = EquationSystem([[1, -2], [2, -1]], 1, 2)\n",
    "print(nn_1)\n",
    "nn_1.plot()"
   ]
  },
  {
   "attachments": {},
   "cell_type": "markdown",
   "id": "827ed698",
   "metadata": {},
   "source": [
    "**Example 2**\n",
    "\n",
    "$$\n",
    "\\begin{cases}\n",
    "R' = -2R + 3J \\\\\n",
    "J' = -3R + 2J \\\\\n",
    "R(0) = 2, \n",
    "J(0) = 1\n",
    "\\end{cases}\n",
    "\n",
    "$$"
   ]
  },
  {
   "cell_type": "code",
   "execution_count": 56,
   "id": "9ca2fa66",
   "metadata": {},
   "outputs": [
    {
     "name": "stdout",
     "output_type": "stream",
     "text": [
      "\n",
      "        Type: Conjugate complex\n",
      "        Characteristic equation: λ^2 + (0)λ + (5)\n",
      "        Eigenvalues: s1 = -2.236j, s2 = 2.236j\n",
      "        Eigenvectors: v1 = [1, (0.667-0.745j)], v2 = [1, (0.667+0.745j)]\n",
      "        Constants: c1 = 2, c2 = 0.447\n",
      "        R(t) = 2*e^(0.0*t)*cos(-2.236*t) + 0.447*e^(0.0*t)*sin(-2.236*t)\n",
      "        J(t) = 2*e^(0.0*t)*(0.667*cos(-2.236*t) - -0.745*sin(-2.236*t)) + 0.447*e^(0.0*t)*(-0.745*cos(-2.236*t) + 0.667*sin(-2.236*t))\n",
      "        \n"
     ]
    },
    {
     "data": {
      "image/png": "[encoded data removed]",
      "text/plain": [
       "<Figure size 432x288 with 2 Axes>"
      ]
     },
     "metadata": {
      "needs_background": "light"
     },
     "output_type": "display_data"
    }
   ],
   "source": [
    "cc_1 = EquationSystem([[-2, 3], [-3, 2]], 2, 1)\n",
    "print(cc_1)\n",
    "cc_1.plot()"
   ]
  }
 ],
 "metadata": {
  "kernelspec": {
   "display_name": "Python 3.8.10 64-bit",
   "language": "python",
   "name": "python3"
  },
  "language_info": {
   "codemirror_mode": {
    "name": "ipython",
    "version": 3
   },
   "file_extension": ".py",
   "mimetype": "text/x-python",
   "name": "python",
   "nbconvert_exporter": "python",
   "pygments_lexer": "ipython3",
   "version": "3.10.6"
  },
  "vscode": {
   "interpreter": {
    "hash": "916dbcbb3f70747c44a77c7bcd40155683ae19c65e1c03b4aa3499c5328201f1"
   }
  }
 },
 "nbformat": 4,
 "nbformat_minor": 5
}
