{
 "cells": [
  {
   "cell_type": "markdown",
   "id": "f71e57af",
   "metadata": {},
   "source": [
    "# Dynamics Of Love"
   ]
  },
  {
   "cell_type": "markdown",
   "id": "86f987ab",
   "metadata": {},
   "source": [
    "## Introduction to Initial-Value Problem (IVP)\n",
    "### What are Ordinary Differential Equations (ODEs)\n",
    "An ordinary differential equation (ODE) is an equation that includes oridinary derivatives of a function as part of itself. Because ODEs originates from normal equation, through multiple differentiations, the ultimate goal when solving ODEs is to obtain the original equation.\n",
    "\n",
    "For example:"
   ]
  },
  {
   "cell_type": "markdown",
   "id": "61423413",
   "metadata": {},
   "source": [
    "$$ \\frac{dy}{dx} = 2x + 3 $$"
   ]
  },
  {
   "cell_type": "markdown",
   "id": "d3441005",
   "metadata": {},
   "source": [
    "The original equation that the example comes from:"
   ]
  },
  {
   "cell_type": "markdown",
   "id": "01d3a896",
   "metadata": {},
   "source": [
    "$$ y = x^2 + 3x $$"
   ]
  },
  {
   "cell_type": "markdown",
   "id": "4d88d1e9",
   "metadata": {},
   "source": [
    "The example can be obtained by differentiating both sides of the original example:"
   ]
  },
  {
   "cell_type": "markdown",
   "id": "91020cb0",
   "metadata": {},
   "source": [
    "$$ (y)' = (x^2 + 3x)' \\to \\frac{dy}{dx} = 2x + 3 $$"
   ]
  },
  {
   "cell_type": "markdown",
   "id": "72b8c264",
   "metadata": {},
   "source": [
    "### Understanding the Initial-Value Problem (IVP)\n",
    "One of the method of solving ODEs is to first manipulate the equation so that each side of itself appears only:\n",
    "1. A variable\n",
    "2. Its derivative\n",
    "\n",
    "Then integrate both sides to obtain a *general* solution, one that resembles the original equation, which is the ultimate goal.\n",
    "\n",
    "For example:"
   ]
  },
  {
   "cell_type": "markdown",
   "id": "f2a31030",
   "metadata": {},
   "source": [
    "$$ \\frac{dy}{dx} = 2x + 3 \\leftrightarrow dy = (2x + 3)dx $$\n",
    "\n",
    "$$ \\int 1\\,dy = \\int 2x + 3\\,dx \\rightarrow y = x^2 + 3x + C_0 $$"
   ]
  },
  {
   "cell_type": "markdown",
   "id": "6a40c487",
   "metadata": {},
   "source": [
    "Notice why $ \\int 1\\,dy = \\int 2x + 3\\,dx $ can be calculated into $ y = x^2 + 3x + C_0 $, but not the other way around? And why there is a $ C_0 $ at the end of the solution that was obtained?\n",
    "\n",
    "Consider a second original equation, with a constant $ 7 $:"
   ]
  },
  {
   "cell_type": "markdown",
   "id": "71a5dab7",
   "metadata": {},
   "source": [
    "$$ y = x^2 + 3x + 7 $$"
   ]
  },
  {
   "cell_type": "markdown",
   "id": "c6a558f9",
   "metadata": {},
   "source": [
    "It can also be differentiated to become the exact ODE as before:"
   ]
  },
  {
   "cell_type": "markdown",
   "id": "bc5a7bed",
   "metadata": {},
   "source": [
    "$$ (y)' = (x^2 + 3x + 7)' \\to \\frac{dy}{dx} = 2x + 3 $$"
   ]
  },
  {
   "cell_type": "markdown",
   "id": "ef59a49b",
   "metadata": {},
   "source": [
    "Here comes the challenging part of solving ODEs: *How can we find out the exact solution if there are multiple original equations that can be differentiated to the same ODE that we are solving?*\n",
    "\n",
    "With only the ODE itself, then *no, it cannot be done*. If another condition, or *constraint* is added to the question, such as:"
   ]
  },
  {
   "cell_type": "markdown",
   "id": "b02341e9",
   "metadata": {},
   "source": [
    "$$ \n",
    "\\begin{cases}\n",
    "\\frac{dy}{dx} = 2x + 3 \\\\\n",
    "y(0) = 7\n",
    "\\end{cases}\n",
    "$$"
   ]
  },
  {
   "cell_type": "markdown",
   "id": "66bf7711",
   "metadata": {},
   "source": [
    "Then $ C_0 $ can be discovered simply by using the initial condition provided: $ 7 = 0^2 + 3.0 + C_0 \\leftrightarrow C_0 = 7 $\n",
    "\n",
    "The problem of finding a $ F(x) $ from its derivative and its $ y_0 $ at some $ x_0 $ is called a **Initial-Value Problem** *(IVP)*, similar to the previous example. Generally, to solve IVPs:\n",
    "1. Find a general solution: $ \\int \\,dy = \\int f(x)\\,dx \\rightarrow y = F(x) + C_0 $\n",
    "2. Apply the initial constraint to the general solution, solve for $ C_0 $"
   ]
  },
  {
   "cell_type": "markdown",
   "id": "f5ada45c",
   "metadata": {},
   "source": [
    "### The *Dynamic of Love* equation\n",
    "The *Dynamic of Love* between Romeo & Juliet is formularized into a system of equations as such:"
   ]
  },
  {
   "cell_type": "markdown",
   "id": "e4d1bf79",
   "metadata": {},
   "source": [
    "$$ \n",
    "\\begin{cases}\n",
    "\\frac{dR}{dt} = aR + bJ \\\\\n",
    "\\frac{dJ}{dt} = cR + dJ \\\\\n",
    "R(0) = R_0, J(0) = J_0\n",
    "\\end{cases}\n",
    "$$"
   ]
  },
  {
   "cell_type": "markdown",
   "id": "444939b9",
   "metadata": {},
   "source": [
    "where $ R $ is a differentiable function $ R : \\mathbb{R}^+ \\cup {0} \\rightarrow \\mathbb{R} $ that describes the love of **Romeo** for **Juliet** and $ J $ is a similarly differentiable function  $ J : \\mathbb{R}^+ \\cup {0} \\rightarrow \\mathbb{R} $ that describes the love of **Juliet** for **Romeo**.\n",
    "\n",
    "The coefficients describes the interaction between the love of one to the other. Essentially, the *Dynamics of Love* is a system of first-order ODE with provided initial conditions that can be used to narrow down the general solution to achieve the exact solution.\n",
    "\n",
    "This system can be presented into matrices as such:"
   ]
  },
  {
   "cell_type": "markdown",
   "id": "52798518",
   "metadata": {},
   "source": [
    "$$ \\frac{d}{dt} \\begin{pmatrix} R \\\\ J \\end{pmatrix} = \\begin{pmatrix} a &b \\\\ c &d \\end{pmatrix} \\begin{pmatrix} R \\\\ J \\end{pmatrix} $$"
   ]
  },
  {
   "cell_type": "markdown",
   "id": "4d3189e7",
   "metadata": {},
   "source": [
    "which can be presented as $ \\dot{x} = \\vec{A} \\vec{x} $ to correlates it to a general form of an ODE.\n",
    "\n",
    "Often when solving ODEs, an *ansatz* of the original functions are made. $ \\vec{x(t)} $, which represents a column vector that relies on the time $ t $, can be assumed to exist in a form that makes calculation easier if appropriate solutions are found. \n",
    "\n",
    "In this case, let's assume that:"
   ]
  },
  {
   "cell_type": "markdown",
   "id": "63244637",
   "metadata": {},
   "source": [
    "$$ \\vec{x(t)} = \\vec{v}e^{\\lambda t} $$"
   ]
  },
  {
   "cell_type": "markdown",
   "id": "0fa29f84",
   "metadata": {},
   "source": [
    "where $ \\vec{v} $ represents a constant *column vector*, $ \\lambda $ represents a *scalar* constant. If it can be proven that there exists values of $ \\vec{v} $ and $ \\lambda $ such that $ \\dot{x(t)} = \\vec{A} \\vec{x(t)} $, then the values of $ R $ and $ J $ can be found based on that column vector's values, provided that $ R $, $ J $ and $ x $ relies on the same time series variable.\n",
    "\n",
    "By substituting the ansatz into, $ \\dot{x(t)} = \\vec{A} \\vec{x(t)} $ can be made into an **eigenvalue & eigenvector problem**, which will help finding the values of $\\vec{v}$ and $\\lambda$, as such:"
   ]
  },
  {
   "cell_type": "markdown",
   "id": "29339477",
   "metadata": {},
   "source": [
    "$$ \\dot{x} = \\vec{A} \\vec{x} \\\\\n",
    "\\rightarrow \\frac{d}{dt}(\\vec{v}e^{\\lambda t}) = \\vec{A}(\\vec{v}e^{\\lambda t}) \\\\\n",
    "\\rightarrow \\lambda(\\vec{v}e^{\\lambda t}) = \\vec{A}(\\vec{v}e^{\\lambda t})\n",
    "$$"
   ]
  },
  {
   "cell_type": "markdown",
   "id": "c5b9e7a5",
   "metadata": {},
   "source": [
    "since $ e^{\\lambda t} $ are scalar values and for sure will not be $0$, it can be eliminated from both sides of the equation."
   ]
  },
  {
   "cell_type": "markdown",
   "id": "b3022095",
   "metadata": {},
   "source": [
    "$$ \\vec{A}\\vec{v} = \\lambda \\vec{v} $$"
   ]
  },
  {
   "cell_type": "markdown",
   "id": "ddc76c49",
   "metadata": {},
   "source": [
    "Let's solve for $\\vec{v}$ and $\\lambda$ by using eigenvalues and eigenvectors. It can be further transformed into:"
   ]
  },
  {
   "cell_type": "markdown",
   "id": "1e51dbc2",
   "metadata": {},
   "source": [
    "$$ \\vec{A}\\vec{v} - \\lambda \\vec{v} = 0 \\\\\n",
    "\\leftrightarrow \\vec{A}\\vec{v} - \\lambda I\\vec{v} = 0 \\\\\n",
    "\\leftrightarrow (\\vec{A} - \\lambda I)\\vec{v} = 0\n",
    "$$"
   ]
  },
  {
   "cell_type": "markdown",
   "id": "6d973972",
   "metadata": {},
   "source": [
    "where $I$ is the identity matrix. From our assumption, $\\vec{v}$ is a constant vector column, and since the prospect of it being a zero vector does not benefits our calculations ($\\vec{f(t)}$ will also be a zero vector), let's also assume that it must not be a zero vector.\n",
    "\n",
    "In order to facilitate this asumption, $\\vec{A} - \\lambda I$ cannot be invertible, and therefore its *determinant* of must be $0$. Interestingly, the determinant of this matrix will form a polynomial equation based on $\\lambda$, called the *characteristic equation*, and the value of $\\lambda$'s are called **eigenvalues**. Each eigenvalues corresponds to an **eigenvector** $\\vec{v}$.\n"
   ]
  },
  {
   "cell_type": "markdown",
   "id": "1f56b690",
   "metadata": {},
   "source": [
    "$$\n",
    "det(\\vec{A} - \\lambda I) = 0 \\\\\n",
    "\\leftrightarrow det[\\begin{pmatrix} a &b \\\\ c &d \\end{pmatrix} - \\lambda \\begin{pmatrix} 1 &0 \\\\ 0 &1 \\end{pmatrix}] = 0 \\\\\n",
    "\\leftrightarrow det(\\begin{pmatrix} a - \\lambda &b \\\\ c &d - \\lambda \\end{pmatrix}) = 0 \\\\\n",
    "\\leftrightarrow det(\\vec{A} - \\lambda I) = (a - \\lambda)(d - \\lambda) - bc = 0 \\\\\n",
    "\\leftrightarrow \\lambda^2 - (a + d)\\lambda + (ad - bc) = 0\n",
    "$$"
   ]
  },
  {
   "cell_type": "markdown",
   "id": "fd18d5ad",
   "metadata": {},
   "source": [
    "At this point, solve for eigenvalues $\\lambda$. With these eigenvalues, comes corresponding eigenvectors $\\vec{v}$. Both of which, can be plugged into $ \\vec{x(t)} = \\vec{v}e^{\\lambda t} $ to find $ R $ and $ J $.\n",
    "\n",
    "The quadratice characteristic equation $\\lambda^2 - (a + d)\\lambda + (ad - bc) = 0$, can either:\n",
    "- Have 1 or 2 distinct real roots\n",
    "- Have imaginary roots\n",
    "\n",
    "Based on the eigenvalues obtained from this equation, the method in which $R$ and $J$ is calculated can be a little bit different.\n",
    "\n",
    "Obtaining the eigenvalue $\\vec{v}$ for both real and imaginary eigenvalues $\\lambda$ is the same. Let's assume that the there were 2 solutions of eigenvalues from the characteristic equation. The imaginary eigenvalues consists of a complex number and its *conjugate* complex number. Each eigenvalues will have to go through the same procedure the find their corresponding eigenvector.\n",
    "\n",
    "In this example, $\\lambda = t_0$"
   ]
  }
 ],
 "metadata": {
  "kernelspec": {
   "display_name": "Python 3.8.10 64-bit",
   "language": "python",
   "name": "python3"
  },
  "language_info": {
   "codemirror_mode": {
    "name": "ipython",
    "version": 3
   },
   "file_extension": ".py",
   "mimetype": "text/x-python",
   "name": "python",
   "nbconvert_exporter": "python",
   "pygments_lexer": "ipython3",
   "version": "3.8.10"
  },
  "vscode": {
   "interpreter": {
    "hash": "916dbcbb3f70747c44a77c7bcd40155683ae19c65e1c03b4aa3499c5328201f1"
   }
  }
 },
 "nbformat": 4,
 "nbformat_minor": 5
}
